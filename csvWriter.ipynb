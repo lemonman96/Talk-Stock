{
 "cells": [
  {
   "cell_type": "code",
   "execution_count": 16,
   "metadata": {},
   "outputs": [],
   "source": [
    "\n",
    "#from nltk.twitter import Twitter\n",
    "#import nltk\n",
    "\n",
    "#yanofsky\n",
    "import tweepy\n",
    "\n",
    "consumer_key='ENTER'\n",
    "consumer_secret='ENTER'\n",
    "access_key='ENTER'\n",
    "access_secret='ENTER'\n",
    "\n",
    "#authorize twitter, initialize tweepy\n",
    "auth = tweepy.OAuthHandler(consumer_key, consumer_secret)\n",
    "auth.set_access_token(access_key, access_secret)\n",
    "api = tweepy.API(auth)\n",
    "\n",
    "with open('data.csv', 'w', encoding=\"utf-8\") as file:\n",
    "    for status in tweepy.Cursor(api.search, q='tesla stock -filter:retweets filter:verified', count=100).items(300):\n",
    "        if status is not None:\n",
    "            status.text = (status.text).replace(',', '')\n",
    "            file.write(status.created_at.strftime(\"%m/%d/%Y\") + ',' + status.user.name + ',' + status.text + '\\n')\n",
    "\n",
    "\n"
   ]
  }
 ],
 "metadata": {
  "kernelspec": {
   "display_name": "Python 3",
   "language": "python",
   "name": "python3"
  },
  "language_info": {
   "codemirror_mode": {
    "name": "ipython",
    "version": 3
   },
   "file_extension": ".py",
   "mimetype": "text/x-python",
   "name": "python",
   "nbconvert_exporter": "python",
   "pygments_lexer": "ipython3",
   "version": "3.8.3"
  }
 },
 "nbformat": 4,
 "nbformat_minor": 4
}
